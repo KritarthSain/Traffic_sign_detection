{
 "cells": [
  {
   "cell_type": "markdown",
   "id": "39d515f5",
   "metadata": {},
   "source": [
    "## TRAFFIC SIGN RECOGNITION PROJECT"
   ]
  },
  {
   "cell_type": "markdown",
   "id": "1d98c677",
   "metadata": {},
   "source": [
    "# Importing necessary libraries"
   ]
  },
  {
   "cell_type": "code",
   "execution_count": 1,
   "id": "c06c30db",
   "metadata": {},
   "outputs": [],
   "source": [
    "import numpy as np\n",
    "import pandas as pd\n",
    "import matplotlib.pyplot as plt\n",
    "import tensorflow as tf\n",
    "from PIL import Image\n",
    "import os\n",
    "from sklearn.model_selection import train_test_split\n",
    "from tensorflow.keras.utils import to_categorical\n",
    "from tensorflow.keras.models import Sequential, load_model\n",
    "from tensorflow.keras.layers import Conv2D, MaxPool2D, Dense, Flatten, Dropout"
   ]
  },
  {
   "cell_type": "markdown",
   "id": "3ac12977",
   "metadata": {},
   "source": [
    "# Creating lists to store image arrays and their resp labels"
   ]
  },
  {
   "cell_type": "code",
   "execution_count": 2,
   "id": "c57561c6",
   "metadata": {},
   "outputs": [],
   "source": [
    "data =[]\n",
    "labels = []\n",
    "classes =43 \n",
    "cur_path = os.getcwd()"
   ]
  },
  {
   "cell_type": "markdown",
   "id": "46bca756",
   "metadata": {},
   "source": [
    "# Preprocess the images"
   ]
  },
  {
   "cell_type": "code",
   "execution_count": 3,
   "id": "fc91a8bc",
   "metadata": {},
   "outputs": [],
   "source": [
    "for i in range(classes):     \n",
    "    path = os.path.join(cur_path,'train',str(i))     \n",
    "    images = os.listdir(path)\n",
    "    for a in images:\n",
    "        try:             \n",
    "            image = Image.open(path +'\\\\'+ a)             \n",
    "            image = image.resize((30,30)) \n",
    "            # Resizing all images into 30*30                                                 \n",
    "            image =np.array(image)             \n",
    "            data.append(image)             \n",
    "            labels.append(i)\n",
    "        except Exception as e:\n",
    "            print(e)"
   ]
  },
  {
   "cell_type": "code",
   "execution_count": 4,
   "id": "d8667a17",
   "metadata": {},
   "outputs": [
    {
     "name": "stdout",
     "output_type": "stream",
     "text": [
      "(39209, 30, 30, 3) (39209,)\n"
     ]
    }
   ],
   "source": [
    "#converting images into numpy arrays\n",
    "data = np.array(data) \n",
    "labels = np.array(labels)\n",
    "print(data.shape, labels.shape) "
   ]
  },
  {
   "cell_type": "markdown",
   "id": "c121c66e",
   "metadata": {},
   "source": [
    "# Setting up the data for the model"
   ]
  },
  {
   "cell_type": "code",
   "execution_count": 6,
   "id": "5ba2e6d3",
   "metadata": {},
   "outputs": [],
   "source": [
    "#saving data and lables\n",
    "np.save('./training/data',data)\n",
    "np.save('./training/target',labels)"
   ]
  },
  {
   "cell_type": "code",
   "execution_count": 7,
   "id": "cbb8478e",
   "metadata": {},
   "outputs": [],
   "source": [
    "#loding data and labels\n",
    "data=np.load('./training/data.npy')\n",
    "labels=np.load('./training/target.npy')"
   ]
  },
  {
   "cell_type": "code",
   "execution_count": 8,
   "id": "c95c0981",
   "metadata": {},
   "outputs": [
    {
     "name": "stdout",
     "output_type": "stream",
     "text": [
      "(31367, 30, 30, 3) (7842, 30, 30, 3) (31367,) (7842,)\n"
     ]
    }
   ],
   "source": [
    "X_train, X_val, y_train, y_val =train_test_split(data, labels, test_size=0.2, random_state=0)\n",
    "print(X_train.shape, X_val.shape, y_train.shape, y_val.shape) "
   ]
  },
  {
   "cell_type": "code",
   "execution_count": 9,
   "id": "1912e3ce",
   "metadata": {},
   "outputs": [],
   "source": [
    "#converting labels into one-hot encoding vectors\n",
    "y_train = to_categorical(y_train,43) \n",
    "y_val = to_categorical(y_val,43)"
   ]
  },
  {
   "cell_type": "markdown",
   "id": "ec28474b",
   "metadata": {},
   "source": [
    "# Building a neural network model"
   ]
  },
  {
   "cell_type": "code",
   "execution_count": 10,
   "id": "f1d02c5a",
   "metadata": {},
   "outputs": [],
   "source": [
    "model =Sequential() \n",
    "model.add(Conv2D(filters=32, kernel_size=(5,5), activation='relu', input_shape=X_train.shape[1:])) \n",
    "model.add(Conv2D(filters=32, kernel_size=(5,5), activation='relu')) \n",
    "model.add(MaxPool2D(pool_size=(2,2))) \n",
    "model.add(Dropout(rate=0.25)) \n",
    "model.add(Conv2D(filters=64, kernel_size=(3,3), activation='relu')) \n",
    "model.add(Conv2D(filters=64, kernel_size=(3,3), activation='relu'))\n",
    "model.add(MaxPool2D(pool_size=(2,2))) \n",
    "model.add(Dropout(rate=0.25)) \n",
    "model.add(Flatten())\n",
    "model.add(Dense(256, activation='relu')) \n",
    "model.add(Dropout(rate=0.5))\n",
    "model.add(Dense(43, activation='softmax'))"
   ]
  },
  {
   "cell_type": "markdown",
   "id": "440afc55",
   "metadata": {},
   "source": [
    "# Compiling and Training the model"
   ]
  },
  {
   "cell_type": "code",
   "execution_count": 11,
   "id": "b11e795a",
   "metadata": {},
   "outputs": [],
   "source": [
    "#compiling the model using categorical crossentropy loss and adam optimizer\n",
    "model.compile(loss='categorical_crossentropy', optimizer='adam', metrics=['accuracy']) "
   ]
  },
  {
   "cell_type": "code",
   "execution_count": 12,
   "id": "c9bf90a3",
   "metadata": {},
   "outputs": [
    {
     "name": "stdout",
     "output_type": "stream",
     "text": [
      "Epoch 1/20\n",
      "981/981 [==============================] - 11s 8ms/step - loss: 1.8758 - accuracy: 0.5210 - val_loss: 0.5248 - val_accuracy: 0.8794\n",
      "Epoch 2/20\n",
      "981/981 [==============================] - 8s 8ms/step - loss: 0.7073 - accuracy: 0.7941 - val_loss: 0.2450 - val_accuracy: 0.9343\n",
      "Epoch 3/20\n",
      "981/981 [==============================] - 8s 8ms/step - loss: 0.4602 - accuracy: 0.8638 - val_loss: 0.1920 - val_accuracy: 0.9476\n",
      "Epoch 4/20\n",
      "981/981 [==============================] - 8s 8ms/step - loss: 0.3427 - accuracy: 0.9026 - val_loss: 0.1122 - val_accuracy: 0.9691\n",
      "Epoch 5/20\n",
      "981/981 [==============================] - 8s 8ms/step - loss: 0.2640 - accuracy: 0.9254 - val_loss: 0.0715 - val_accuracy: 0.9819\n",
      "Epoch 6/20\n",
      "981/981 [==============================] - 8s 8ms/step - loss: 0.2467 - accuracy: 0.9313 - val_loss: 0.1093 - val_accuracy: 0.9675\n",
      "Epoch 7/20\n",
      "981/981 [==============================] - 8s 8ms/step - loss: 0.2180 - accuracy: 0.9396 - val_loss: 0.0723 - val_accuracy: 0.9805\n",
      "Epoch 8/20\n",
      "981/981 [==============================] - 8s 8ms/step - loss: 0.2138 - accuracy: 0.9415 - val_loss: 0.0572 - val_accuracy: 0.9851\n",
      "Epoch 9/20\n",
      "981/981 [==============================] - 8s 8ms/step - loss: 0.2076 - accuracy: 0.9452 - val_loss: 0.0619 - val_accuracy: 0.9824\n",
      "Epoch 10/20\n",
      "981/981 [==============================] - 8s 8ms/step - loss: 0.2091 - accuracy: 0.9448 - val_loss: 0.1614 - val_accuracy: 0.9574\n",
      "Epoch 11/20\n",
      "981/981 [==============================] - 8s 8ms/step - loss: 0.2098 - accuracy: 0.9469 - val_loss: 0.0668 - val_accuracy: 0.9818\n",
      "Epoch 12/20\n",
      "981/981 [==============================] - 8s 8ms/step - loss: 0.1938 - accuracy: 0.9505 - val_loss: 0.0945 - val_accuracy: 0.9765\n",
      "Epoch 13/20\n",
      "981/981 [==============================] - 8s 8ms/step - loss: 0.2084 - accuracy: 0.9469 - val_loss: 0.0626 - val_accuracy: 0.9811\n",
      "Epoch 14/20\n",
      "981/981 [==============================] - 8s 8ms/step - loss: 0.1946 - accuracy: 0.9527 - val_loss: 0.0584 - val_accuracy: 0.9857\n",
      "Epoch 15/20\n",
      "981/981 [==============================] - 8s 8ms/step - loss: 0.1878 - accuracy: 0.9536 - val_loss: 0.0662 - val_accuracy: 0.9807\n",
      "Epoch 16/20\n",
      "981/981 [==============================] - 8s 8ms/step - loss: 0.1946 - accuracy: 0.9541 - val_loss: 0.0467 - val_accuracy: 0.9889\n",
      "Epoch 17/20\n",
      "981/981 [==============================] - 8s 8ms/step - loss: 0.1919 - accuracy: 0.9527 - val_loss: 0.0784 - val_accuracy: 0.9793\n",
      "Epoch 18/20\n",
      "981/981 [==============================] - 8s 8ms/step - loss: 0.2509 - accuracy: 0.9441 - val_loss: 0.0574 - val_accuracy: 0.9852\n",
      "Epoch 19/20\n",
      "981/981 [==============================] - 8s 8ms/step - loss: 0.1795 - accuracy: 0.9572 - val_loss: 0.0583 - val_accuracy: 0.9856\n",
      "Epoch 20/20\n",
      "981/981 [==============================] - 8s 8ms/step - loss: 0.2115 - accuracy: 0.9506 - val_loss: 0.0500 - val_accuracy: 0.9894\n"
     ]
    }
   ],
   "source": [
    "epochs = 20 \n",
    "history = model.fit(X_train, y_train, batch_size=32, epochs=epochs, validation_data=(X_val, y_val))"
   ]
  },
  {
   "cell_type": "markdown",
   "id": "0ff0178e",
   "metadata": {},
   "source": [
    "# Plotting the accuracy and loss curves"
   ]
  },
  {
   "cell_type": "code",
   "execution_count": 13,
   "id": "371620f3",
   "metadata": {},
   "outputs": [
    {
     "data": {
      "image/png": "[encoded data removed]",
      "text/plain": [
       "<Figure size 432x288 with 1 Axes>"
      ]
     },
     "metadata": {
      "needs_background": "light"
     },
     "output_type": "display_data"
    }
   ],
   "source": [
    "# accuracy \n",
    "plt.figure(0)\n",
    "plt.plot(history.history['accuracy'], label='training accuracy')\n",
    "plt.plot(history.history['val_accuracy'], label='val accuracy')\n",
    "plt.title('Accuracy')\n",
    "plt.xlabel('epochs')\n",
    "plt.ylabel('accuracy')\n",
    "plt.legend()\n",
    "plt.show()"
   ]
  },
  {
   "cell_type": "code",
   "execution_count": 14,
   "id": "ea9ad8e0",
   "metadata": {},
   "outputs": [
    {
     "data": {
      "image/png": "[encoded data removed]",
      "text/plain": [
       "<Figure size 432x288 with 1 Axes>"
      ]
     },
     "metadata": {
      "needs_background": "light"
     },
     "output_type": "display_data"
    }
   ],
   "source": [
    "# Loss\n",
    "plt.plot(history.history['loss'], label='training loss')\n",
    "plt.plot(history.history['val_loss'], label='val loss')\n",
    "plt.title('Loss')\n",
    "plt.xlabel('epochs')\n",
    "plt.ylabel('loss')\n",
    "plt.legend()\n",
    "plt.show()"
   ]
  },
  {
   "cell_type": "markdown",
   "id": "c75762f6",
   "metadata": {},
   "source": [
    "# Testing the model on test data"
   ]
  },
  {
   "cell_type": "code",
   "execution_count": 15,
   "id": "e676db18",
   "metadata": {},
   "outputs": [],
   "source": [
    "#creating a function to load labels and image paths from test.csv file\n",
    "\n",
    "def testing(testcsv):\n",
    "    y_test = pd.read_csv(testcsv)\n",
    "    label = y_test[\"ClassId\"].values\n",
    "    imgs = y_test[\"Path\"].values\n",
    "    data=[]\n",
    "    for img in imgs:\n",
    "        image = Image.open(img)\n",
    "        image = image.resize((30,30))\n",
    "        data.append(np.array(image))\n",
    "    X_test=np.array(data)\n",
    "    return X_test,label"
   ]
  },
  {
   "cell_type": "code",
   "execution_count": 16,
   "id": "2d0800dc",
   "metadata": {},
   "outputs": [],
   "source": [
    "#loading the test.csv file\n",
    "\n",
    "X_test, label = testing('Test.csv')"
   ]
  },
  {
   "cell_type": "code",
   "execution_count": 17,
   "id": "648429f3",
   "metadata": {},
   "outputs": [
    {
     "name": "stderr",
     "output_type": "stream",
     "text": [
      "C:\\Users\\saink\\anaconda3\\lib\\site-packages\\tensorflow\\python\\keras\\engine\\sequential.py:455: UserWarning: `model.predict_classes()` is deprecated and will be removed after 2021-01-01. Please use instead:* `np.argmax(model.predict(x), axis=-1)`,   if your model does multi-class classification   (e.g. if it uses a `softmax` last-layer activation).* `(model.predict(x) > 0.5).astype(\"int32\")`,   if your model does binary classification   (e.g. if it uses a `sigmoid` last-layer activation).\n",
      "  warnings.warn('`model.predict_classes()` is deprecated and '\n"
     ]
    },
    {
     "data": {
      "text/plain": [
       "array([16,  1, 38, ...,  1,  7, 10], dtype=int64)"
      ]
     },
     "execution_count": 17,
     "metadata": {},
     "output_type": "execute_result"
    }
   ],
   "source": [
    "# Predicting classes for x_test\n",
    "\n",
    "Y_pred = model.predict_classes(X_test)\n",
    "Y_pred"
   ]
  },
  {
   "cell_type": "code",
   "execution_count": 18,
   "id": "107bb51f",
   "metadata": {},
   "outputs": [
    {
     "name": "stdout",
     "output_type": "stream",
     "text": [
      "0.9575613618368963\n"
     ]
    }
   ],
   "source": [
    "# checking the accuracy of the model on test data\n",
    "\n",
    "from sklearn.metrics import accuracy_score\n",
    "print(accuracy_score(label, Y_pred))"
   ]
  },
  {
   "cell_type": "code",
   "execution_count": 19,
   "id": "2e96e622",
   "metadata": {},
   "outputs": [],
   "source": [
    "# with this model we got 95.75% accuracy on the unknown test data so we will save this model\n",
    "model.save(\"./training/TSR.h5\")"
   ]
  },
  {
   "cell_type": "markdown",
   "id": "2d67e8f9",
   "metadata": {},
   "source": [
    "# Load the model"
   ]
  },
  {
   "cell_type": "code",
   "execution_count": null,
   "id": "a4301434",
   "metadata": {},
   "outputs": [],
   "source": [
    "from tensorflow.keras.models import load_model\n",
    "model = load_model('./training/TSR.h5')"
   ]
  },
  {
   "cell_type": "code",
   "execution_count": 1,
   "id": "9e197b38",
   "metadata": {},
   "outputs": [],
   "source": [
    "# we are naming all the classes with strings manually and storing it in a dictionary\n",
    "\n",
    "# Classes of trafic signs\n",
    "classes = { 0:'Speed limit (20km/h)',\n",
    "            1:'Speed limit (30km/h)', \n",
    "            2:'Speed limit (50km/h)', \n",
    "            3:'Speed limit (60km/h)', \n",
    "            4:'Speed limit (70km/h)', \n",
    "            5:'Speed limit (80km/h)', \n",
    "            6:'End of speed limit (80km/h)', \n",
    "            7:'Speed limit (100km/h)', \n",
    "            8:'Speed limit (120km/h)', \n",
    "            9:'No passing', \n",
    "            10:'No passing veh over 3.5 tons', \n",
    "            11:'Right-of-way at intersection', \n",
    "            12:'Priority road', \n",
    "            13:'Yield', \n",
    "            14:'Stop', \n",
    "            15:'No vehicles', \n",
    "            16:'Veh > 3.5 tons prohibited', \n",
    "            17:'No entry', \n",
    "            18:'General caution', \n",
    "            19:'Dangerous curve left', \n",
    "            20:'Dangerous curve right', \n",
    "            21:'Double curve', \n",
    "            22:'Bumpy road', \n",
    "            23:'Slippery road', \n",
    "            24:'Road narrows on the right', \n",
    "            25:'Road work', \n",
    "            26:'Traffic signals', \n",
    "            27:'Pedestrians', \n",
    "            28:'Children crossing', \n",
    "            29:'Bicycles crossing', \n",
    "            30:'Beware of ice/snow',\n",
    "            31:'Wild animals crossing', \n",
    "            32:'End speed + passing limits', \n",
    "            33:'Turn right ahead', \n",
    "            34:'Turn left ahead', \n",
    "            35:'Ahead only', \n",
    "            36:'Go straight or right', \n",
    "            37:'Go straight or left', \n",
    "            38:'Keep right', \n",
    "            39:'Keep left', \n",
    "            40:'Roundabout mandatory', \n",
    "            41:'End of no passing', \n",
    "            42:'End no passing veh > 3.5 tons' }"
   ]
  },
  {
   "cell_type": "code",
   "execution_count": 2,
   "id": "438bc755",
   "metadata": {},
   "outputs": [],
   "source": [
    "from PIL import Image\n",
    "import numpy as np\n",
    "import matplotlib.pyplot as plt\n",
    "\n",
    "# creating a function to preprocess the image and output the prediction\n",
    "def test_on_img(img):\n",
    "    data=[]\n",
    "    image = Image.open(img)\n",
    "    image = image.resize((30,30))\n",
    "    data.append(np.array(image))\n",
    "    X_test=np.array(data)\n",
    "    Y_pred = model.predict_classes(X_test)\n",
    "    return image,Y_pred"
   ]
  },
  {
   "cell_type": "code",
   "execution_count": 3,
   "id": "de7d026f",
   "metadata": {},
   "outputs": [
    {
     "ename": "NameError",
     "evalue": "name 'model' is not defined",
     "output_type": "error",
     "traceback": [
      "\u001b[1;31m---------------------------------------------------------------------------\u001b[0m",
      "\u001b[1;31mNameError\u001b[0m                                 Traceback (most recent call last)",
      "\u001b[1;32m<ipython-input-3-97d7d956fc87>\u001b[0m in \u001b[0;36m<module>\u001b[1;34m\u001b[0m\n\u001b[1;32m----> 1\u001b[1;33m \u001b[0mplot\u001b[0m\u001b[1;33m,\u001b[0m\u001b[0mprediction\u001b[0m \u001b[1;33m=\u001b[0m \u001b[0mtest_on_img\u001b[0m\u001b[1;33m(\u001b[0m\u001b[1;34mr'C:\\Users\\saink\\anaconda3\\envs\\Traffic_sign_project\\Traffic_sign_recognition\\Test\\00500.png'\u001b[0m\u001b[1;33m)\u001b[0m\u001b[1;33m\u001b[0m\u001b[1;33m\u001b[0m\u001b[0m\n\u001b[0m\u001b[0;32m      2\u001b[0m \u001b[0ms\u001b[0m \u001b[1;33m=\u001b[0m \u001b[1;33m[\u001b[0m\u001b[0mstr\u001b[0m\u001b[1;33m(\u001b[0m\u001b[0mi\u001b[0m\u001b[1;33m)\u001b[0m \u001b[1;32mfor\u001b[0m \u001b[0mi\u001b[0m \u001b[1;32min\u001b[0m \u001b[0mprediction\u001b[0m\u001b[1;33m]\u001b[0m\u001b[1;33m\u001b[0m\u001b[1;33m\u001b[0m\u001b[0m\n\u001b[0;32m      3\u001b[0m \u001b[0ma\u001b[0m \u001b[1;33m=\u001b[0m \u001b[0mint\u001b[0m\u001b[1;33m(\u001b[0m\u001b[1;34m\"\"\u001b[0m\u001b[1;33m.\u001b[0m\u001b[0mjoin\u001b[0m\u001b[1;33m(\u001b[0m\u001b[0ms\u001b[0m\u001b[1;33m)\u001b[0m\u001b[1;33m)\u001b[0m\u001b[1;33m\u001b[0m\u001b[1;33m\u001b[0m\u001b[0m\n\u001b[0;32m      4\u001b[0m \u001b[0mprint\u001b[0m\u001b[1;33m(\u001b[0m\u001b[1;34m\"Predicted traffic sign is: \"\u001b[0m\u001b[1;33m,\u001b[0m \u001b[0mclasses\u001b[0m\u001b[1;33m[\u001b[0m\u001b[0ma\u001b[0m\u001b[1;33m]\u001b[0m\u001b[1;33m)\u001b[0m\u001b[1;33m\u001b[0m\u001b[1;33m\u001b[0m\u001b[0m\n\u001b[0;32m      5\u001b[0m \u001b[0mplt\u001b[0m\u001b[1;33m.\u001b[0m\u001b[0mimshow\u001b[0m\u001b[1;33m(\u001b[0m\u001b[0mplot\u001b[0m\u001b[1;33m)\u001b[0m\u001b[1;33m\u001b[0m\u001b[1;33m\u001b[0m\u001b[0m\n",
      "\u001b[1;32m<ipython-input-2-8eef2e59a4a5>\u001b[0m in \u001b[0;36mtest_on_img\u001b[1;34m(img)\u001b[0m\n\u001b[0;32m     10\u001b[0m     \u001b[0mdata\u001b[0m\u001b[1;33m.\u001b[0m\u001b[0mappend\u001b[0m\u001b[1;33m(\u001b[0m\u001b[0mnp\u001b[0m\u001b[1;33m.\u001b[0m\u001b[0marray\u001b[0m\u001b[1;33m(\u001b[0m\u001b[0mimage\u001b[0m\u001b[1;33m)\u001b[0m\u001b[1;33m)\u001b[0m\u001b[1;33m\u001b[0m\u001b[1;33m\u001b[0m\u001b[0m\n\u001b[0;32m     11\u001b[0m     \u001b[0mX_test\u001b[0m\u001b[1;33m=\u001b[0m\u001b[0mnp\u001b[0m\u001b[1;33m.\u001b[0m\u001b[0marray\u001b[0m\u001b[1;33m(\u001b[0m\u001b[0mdata\u001b[0m\u001b[1;33m)\u001b[0m\u001b[1;33m\u001b[0m\u001b[1;33m\u001b[0m\u001b[0m\n\u001b[1;32m---> 12\u001b[1;33m     \u001b[0mY_pred\u001b[0m \u001b[1;33m=\u001b[0m \u001b[0mmodel\u001b[0m\u001b[1;33m.\u001b[0m\u001b[0mpredict_classes\u001b[0m\u001b[1;33m(\u001b[0m\u001b[0mX_test\u001b[0m\u001b[1;33m)\u001b[0m\u001b[1;33m\u001b[0m\u001b[1;33m\u001b[0m\u001b[0m\n\u001b[0m\u001b[0;32m     13\u001b[0m     \u001b[1;32mreturn\u001b[0m \u001b[0mimage\u001b[0m\u001b[1;33m,\u001b[0m\u001b[0mY_pred\u001b[0m\u001b[1;33m\u001b[0m\u001b[1;33m\u001b[0m\u001b[0m\n",
      "\u001b[1;31mNameError\u001b[0m: name 'model' is not defined"
     ]
    }
   ],
   "source": [
    "plot,prediction = test_on_img(r'C:\\Users\\saink\\anaconda3\\envs\\Traffic_sign_project\\Traffic_sign_recognition\\Test\\00500.png')\n",
    "s = [str(i) for i in prediction] \n",
    "a = int(\"\".join(s)) \n",
    "print(\"Predicted traffic sign is: \", classes[a])\n",
    "plt.imshow(plot)\n",
    "plt.show()"
   ]
  },
  {
   "cell_type": "markdown",
   "id": "e556e2f0",
   "metadata": {},
   "source": [
    "<h1> Summary: </h1>\n",
    "\n",
    "<ul>\n",
    "    <li> First, we preprocess our training images and convert them to arrays and save them as vectors.</li>\n",
    "    <li> We create train test split of our data. </li>\n",
    "    <li> We convert the labels into categories using one hot encoding.</li>\n",
    "    <li> We build a convolution neural network and compile it using categorical cross-entropy loss and adam optimizer.</li>\n",
    "    <li> We fit the model on data and train it for 20 epochs. </li>\n",
    "    <li> We get 95% accuracy on validation data.</li>\n",
    "    <li> We test the model on test data and we get 95.75% accuracy on our test data. </li>\n",
    "</ul>"
   ]
  },
  {
   "cell_type": "code",
   "execution_count": null,
   "id": "64a90685",
   "metadata": {},
   "outputs": [],
   "source": []
  }
 ],
 "metadata": {
  "kernelspec": {
   "display_name": "Python 3",
   "language": "python",
   "name": "python3"
  },
  "language_info": {
   "codemirror_mode": {
    "name": "ipython",
    "version": 3
   },
   "file_extension": ".py",
   "mimetype": "text/x-python",
   "name": "python",
   "nbconvert_exporter": "python",
   "pygments_lexer": "ipython3",
   "version": "3.8.8"
  }
 },
 "nbformat": 4,
 "nbformat_minor": 5
}
